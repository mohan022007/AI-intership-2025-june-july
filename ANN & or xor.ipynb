{
 "cells": [
  {
   "cell_type": "code",
   "execution_count": 1,
   "id": "3c63803c",
   "metadata": {},
   "outputs": [
    {
     "ename": "ModuleNotFoundError",
     "evalue": "No module named 'tensorflow'",
     "output_type": "error",
     "traceback": [
      "\u001b[1;31m---------------------------------------------------------------------------\u001b[0m",
      "\u001b[1;31mModuleNotFoundError\u001b[0m                       Traceback (most recent call last)",
      "Cell \u001b[1;32mIn[1], line 2\u001b[0m\n\u001b[0;32m      1\u001b[0m \u001b[38;5;28;01mimport\u001b[39;00m\u001b[38;5;250m \u001b[39m\u001b[38;5;21;01mnumpy\u001b[39;00m\u001b[38;5;250m \u001b[39m\u001b[38;5;28;01mas\u001b[39;00m\u001b[38;5;250m \u001b[39m\u001b[38;5;21;01mnp\u001b[39;00m\n\u001b[1;32m----> 2\u001b[0m \u001b[38;5;28;01mimport\u001b[39;00m\u001b[38;5;250m \u001b[39m\u001b[38;5;21;01mtensorflow\u001b[39;00m\u001b[38;5;250m \u001b[39m\u001b[38;5;28;01mas\u001b[39;00m\u001b[38;5;250m \u001b[39m\u001b[38;5;21;01mtf\u001b[39;00m\n\u001b[0;32m      3\u001b[0m \u001b[38;5;28;01mfrom\u001b[39;00m\u001b[38;5;250m \u001b[39m\u001b[38;5;21;01mtensorflow\u001b[39;00m\u001b[38;5;21;01m.\u001b[39;00m\u001b[38;5;21;01mkeras\u001b[39;00m\u001b[38;5;21;01m.\u001b[39;00m\u001b[38;5;21;01moptimizers\u001b[39;00m\u001b[38;5;250m \u001b[39m\u001b[38;5;28;01mimport\u001b[39;00m Adam\n\u001b[0;32m      4\u001b[0m \u001b[38;5;28;01mfrom\u001b[39;00m\u001b[38;5;250m \u001b[39m\u001b[38;5;21;01mtensorflow\u001b[39;00m\u001b[38;5;21;01m.\u001b[39;00m\u001b[38;5;21;01mkeras\u001b[39;00m\u001b[38;5;21;01m.\u001b[39;00m\u001b[38;5;21;01mmodels\u001b[39;00m\u001b[38;5;250m \u001b[39m\u001b[38;5;28;01mimport\u001b[39;00m Sequential\n",
      "\u001b[1;31mModuleNotFoundError\u001b[0m: No module named 'tensorflow'"
     ]
    }
   ],
   "source": [
    "import numpy as np\n",
    "import tensorflow as tf\n",
    "from tensorflow.keras.optimizers import Adam\n",
    "from tensorflow.keras.models import Sequential\n",
    "from tensorflow.keras.layers import Dense, Activation\n",
    "\n",
    "def and_fun(arr):\n",
    "    and_list = []                                         # Creates Empty list named and_list\n",
    "    for a in range(len(arr)):                             # For loop running from 0 to lenght of arr\n",
    "        for b in range(1):                                # For loop running once\n",
    "            res = (arr[a][b] & arr[a][b+1])               # Performing & on 1st pair \n",
    "        and_list.append(res)                              # Appending value of & operation\n",
    "    and_list = np.array(and_list)                         # Converting to Numpy Array\n",
    "    return and_list                                       # Returning value\n",
    "\n",
    "\n",
    "def or_fun(arr):\n",
    "    or_list = []\n",
    "    for a in range(len(arr)):\n",
    "        for b in range(1):\n",
    "            res = (arr[a][b] | arr[a][b+1])               # Everything same only performing OR instead of &\n",
    "        or_list.append(res)\n",
    "    or_list = np.array(or_list)\n",
    "    return or_list\n",
    "\n",
    "def xor_fun(arr):\n",
    "    xor_list = []\n",
    "    for a in range(len(arr)):\n",
    "        for b in range(1):\n",
    "            res = (arr[a][b] ^ arr[a][b+1])               # Everything same only performing XOR instead of &\n",
    "        xor_list.append(res)\n",
    "    xor_list = np.array(xor_list)\n",
    "    return xor_list\n",
    "\n",
    "#def step_function(a):\n",
    "   # return tf.cast(a > 0, dtype=tf.float32)\n",
    "\n",
    "correct = 0\n",
    "itr = int(input(\"Number of Iterations : \"))                # Taking Number of Iteration from user and converting it to \"int\"\n",
    "\n",
    "choice = input(\"AND for and OR for or and XOR for xor\\nWhat do you want to do : \")  # Asking user what he wants to perform\n",
    "\n",
    "num_pairs = int(input(\"How many pairs you want to add : \")) # Asking user how many pairs does he want\n",
    "X = []                                                     # Empty list \n",
    "for i in range(num_pairs):                                 # Running loop from 0 to user entered number\n",
    "    print(f\"Pair {i+1}:\")\n",
    "    x1 = int(input(\"  Enter first value (0 or 1): \"))      # x1 input\n",
    "    x2 = int(input(\"  Enter second value (0 or 1): \"))     # x2 input\n",
    "    \n",
    "    X.append([x1, x2])                                     # Appendimg all x values in a single variable\n",
    "arr = np.array(X)                                          # converting it to numpy array\n",
    "print(f\"Logic : {choice}\")                          \n",
    "print(f\"Epoch(Iterations) : {itr}\")\n",
    "\n",
    "act_and_res = and_fun(arr)                                 # Calling & function \n",
    "act_or_res = or_fun(arr)                                   # Calling OR function\n",
    "act_xor_res = xor_fun(arr)                                   # Calling XOR function\n",
    "\n",
    "model = Sequential()                                       # ANN model\n",
    "model.add(Dense(units=4, input_shape=(2,), activation='sigmoid'))  # units = no of neurons \n",
    "model.add(Dense(units=1, activation='sigmoid'))\n",
    "model.compile(                                             # Compile model\n",
    "    optimizer=Adam(learning_rate=0.1),\n",
    "    loss='binary_crossentropy'                             # 'binary_crossentropy' because our output is binary 0 or 1\n",
    ")\n",
    "\n",
    "match choice:                                              # Match Case (Switch Case)\n",
    "    case 'AND':\n",
    "        model.fit(arr, act_and_res, epochs=itr, verbose=1) # Trains model using and fun output\n",
    "    case 'OR':\n",
    "        model.fit(arr, act_or_res, epochs=itr, verbose=1)  # Trains model using or function output\n",
    "    case 'XOR':\n",
    "        model.fit(arr, act_xor_res, epochs=itr, verbose=1)  # Trains model using xor function output\n",
    "\n",
    "preds = model.predict(arr)                                 # Predicts output using input data\n",
    "\n",
    "for i in range(len(X)):                                     # Looping through each input pair\n",
    "    x_in = X[i]                                             # Extract the original input pair (before np.array)\n",
    "    \n",
    "    match choice:                                           # Match Case\n",
    "        case 'AND':\n",
    "            actual = act_and_res[i]                         # Get the actual result from AND operation\n",
    "        case 'OR':\n",
    "            actual = act_or_res[i]                          # Get the actual result from OR operation\n",
    "        case 'XOR':\n",
    "            actual = act_xor_res[i]                         # Get the actual result from OR operation\n",
    "\n",
    "    raw = preds[i][0]                                       # Get the raw predicted probability (from sigmoid)\n",
    "    binary = int(raw > 0.5)                                 # Convert probability to 0 or 1 (threshold = 0.5)\n",
    "\n",
    "    correct += int(binary == actual)                        # If prediction matches actual, add +1 to correct counter\n",
    "\n",
    "    print(f\"{x_in} => Actual: {actual} | Raw: {raw:.2f} => Predicted : {binary}\")  \n",
    "\n",
    "# After loop: calculate final accuracy\n",
    "accuracy = correct / len(X)                                 # Accuracy = correct predictions / total samples\n",
    "print(f\"\\nFinal Accuracy: {accuracy * 100:.2f}%\")           # Print final accuracy as percentage\n",
    "\n"
   ]
  },
  {
   "cell_type": "code",
   "execution_count": null,
   "id": "7950e3f8",
   "metadata": {},
   "outputs": [
    {
     "name": "stdout",
     "output_type": "stream",
     "text": [
      "Pair 1:\n",
      "Pair 2:\n",
      "Pair 3:\n",
      "Pair 4:\n",
      "Pair 5:\n",
      "Pair 6:\n",
      "Pair 7:\n",
      "Pair 8:\n",
      "\u001b[1m1/1\u001b[0m \u001b[32m━━━━━━━━━━━━━━━━━━━━\u001b[0m\u001b[37m\u001b[0m \u001b[1m0s\u001b[0m 39ms/step\n"
     ]
    },
    {
     "ename": "TypeError",
     "evalue": "unsupported operand type(s) for /: 'list' and 'int'",
     "output_type": "error",
     "traceback": [
      "\u001b[31m---------------------------------------------------------------------------\u001b[39m",
      "\u001b[31mTypeError\u001b[39m                                 Traceback (most recent call last)",
      "\u001b[36mCell\u001b[39m\u001b[36m \u001b[39m\u001b[32mIn[7]\u001b[39m\u001b[32m, line 18\u001b[39m\n\u001b[32m     14\u001b[39m preds1 = model.predict(arr1)\n\u001b[32m     17\u001b[39m \u001b[38;5;66;03m# After loop: calculate final accuracy\u001b[39;00m\n\u001b[32m---> \u001b[39m\u001b[32m18\u001b[39m accuracy1 = \u001b[43mcorrect1\u001b[49m\u001b[43m \u001b[49m\u001b[43m/\u001b[49m\u001b[43m \u001b[49m\u001b[38;5;28;43mlen\u001b[39;49m\u001b[43m(\u001b[49m\u001b[43marr1\u001b[49m\u001b[43m)\u001b[49m                                 \u001b[38;5;66;03m# Accuracy = correct predictions / total samples\u001b[39;00m\n\u001b[32m     19\u001b[39m \u001b[38;5;28mprint\u001b[39m(\u001b[33mf\u001b[39m\u001b[33m\"\u001b[39m\u001b[38;5;130;01m\\n\u001b[39;00m\u001b[33mFinal Accuracy: \u001b[39m\u001b[38;5;132;01m{\u001b[39;00maccuracy1\u001b[38;5;250m \u001b[39m*\u001b[38;5;250m \u001b[39m\u001b[32m100\u001b[39m\u001b[38;5;132;01m:\u001b[39;00m\u001b[33m.2f\u001b[39m\u001b[38;5;132;01m}\u001b[39;00m\u001b[33m%\u001b[39m\u001b[33m\"\u001b[39m) \n",
      "\u001b[31mTypeError\u001b[39m: unsupported operand type(s) for /: 'list' and 'int'"
     ]
    }
   ],
   "source": [
    "#code for testing trained model\n",
    "\n",
    "correct1 = []\n",
    "num_pairs = int(input(\"How many pairs you want to add : \")) # Asking user how many pairs does he want\n",
    "X1 = []                                                     # Empty list \n",
    "for i in range(num_pairs):                                 # Running loop from 0 to user entered number\n",
    "    print(f\"Pair {i+1}:\")\n",
    "    x1 = int(input(\"  Enter first value (0 or 1): \"))      # x1 input\n",
    "    x2 = int(input(\"  Enter second value (0 or 1): \"))     # x2 input\n",
    "    \n",
    "    X1.append([x1, x2])                                     # Appendimg all x values in a single variable\n",
    "arr1 = np.array(X1)\n",
    "\n",
    "preds1 = model.predict(arr1)\n",
    "\n",
    "for i in range(len(arr1)):                                     # Looping through each input pair\n",
    "    x_in1 = arr1[i] \n",
    "    actual1 = act_and_res[i]\n",
    "    raw1 = preds1[i][0]                                       # Get the raw predicted probability (from sigmoid)\n",
    "    binary1 = int(raw > 0.5)                                 # Convert probability to 0 or 1 (threshold = 0.5)\n",
    "\n",
    "    correct1 += int(binary == actual1)                        # If prediction matches actual, add +1 to correct counter\n",
    "\n",
    "    print(f\"{x_in} => Actual: {actual} | Raw: {raw:.2f} => Predicted : {binary}\")  \n",
    "\n",
    "# After loop: calculate final accuracy\n",
    "accuracy1 = correct1 / len(arr1)                                 # Accuracy = correct predictions / total samples\n",
    "print(f\"\\nFinal Accuracy: {accuracy1 * 100:.2f}%\")"
   ]
  },
  {
   "cell_type": "code",
   "execution_count": 4,
   "id": "94e5ddb0",
   "metadata": {},
   "outputs": [
    {
     "name": "stdout",
     "output_type": "stream",
     "text": [
      "And : [0 1 0 0]\n",
      "Or : [0 1 1 1]\n",
      "XOR : [0 0 1 1]\n"
     ]
    }
   ],
   "source": [
    "#print(x)\n",
    "print(f\"And : {act_and_res}\")\n",
    "print(f\"Or : {act_or_res}\")\n",
    "print(f\"XOR : {act_xor_res}\")"
   ]
  },
  {
   "cell_type": "code",
   "execution_count": null,
   "id": "8a97ee3e",
   "metadata": {},
   "outputs": [],
   "source": [
    "print(0 ^ 0)"
   ]
  }
 ],
 "metadata": {
  "kernelspec": {
   "display_name": "Python 3",
   "language": "python",
   "name": "python3"
  },
  "language_info": {
   "codemirror_mode": {
    "name": "ipython",
    "version": 3
   },
   "file_extension": ".py",
   "mimetype": "text/x-python",
   "name": "python",
   "nbconvert_exporter": "python",
   "pygments_lexer": "ipython3",
   "version": "3.10.6"
  }
 },
 "nbformat": 4,
 "nbformat_minor": 5
}
